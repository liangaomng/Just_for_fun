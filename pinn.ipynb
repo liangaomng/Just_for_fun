{
 "cells": [
  {
   "cell_type": "code",
   "execution_count": 1,
   "metadata": {},
   "outputs": [],
   "source": [
    "import numpy as np\n",
    "import math, torch, time\n",
    "import torch.nn.functional as F\n",
    "from torch.optim.lr_scheduler import MultiStepLR, StepLR\n",
    "import torch.nn as nn\n",
    "import matplotlib.pyplot as plt\n",
    "from tqdm import tqdm\n",
    "\n",
    "#Constants\n",
    "def generate_inner_points(n):\n",
    "    x = np.linspace(0, 1, n)\n",
    "    y = np.linspace(0, 1, n)\n",
    "    mesh = np.array(np.meshgrid(x, y)).T.reshape(-1, 2)\n",
    "    return mesh\n",
    "\n",
    "def generate_boundary_points(n):\n",
    "    print(\"numbers...\", n)\n",
    "    x = np.linspace(0, 1, n)\n",
    "    \n",
    "    # 创建上下边界点\n",
    "    top_boundary = np.column_stack((x, np.ones(n)))\n",
    "    bottom_boundary = np.column_stack((x, np.zeros(n)))\n",
    "\n",
    "    # 创建左右边界点，但排除两端的点，因为它们已经在上下边界点中包括\n",
    "    y_inner = np.linspace(0, 1, n)[1:-1]\n",
    "    left_boundary = np.column_stack((np.zeros(y_inner.shape[0]), y_inner))\n",
    "    right_boundary = np.column_stack((np.ones(y_inner.shape[0]), y_inner))\n",
    "    \n",
    "    # 合并所有的边界点\n",
    "    boundary_points = np.vstack((top_boundary, bottom_boundary, left_boundary, right_boundary))\n",
    "    return boundary_points\n",
    "\n",
    "'''\n",
    "def generate_inner_points_monte_carlo(num_points, num_dimensions = 2):\n",
    "    return np.random.uniform(0, 1, (num_points, num_dimensions))\n",
    "\n",
    "# 生成区域边界点\n",
    "def generate_boundary_points_monte_carlo(num_points, num_dimensions = 2):\n",
    "    points = np.random.uniform(0, 1, (num_points, num_dimensions))\n",
    "    for point in points:\n",
    "        # 对于每个点，随机选择一个维度设为0或1，即在边界上\n",
    "        random_dimension = np.random.randint(num_dimensions)\n",
    "        point[random_dimension] = np.random.choice([0, 1])\n",
    "    return points\n",
    "'''\n",
    "\n",
    "# Network structure\n",
    "class PINNNet(torch.nn.Module):\n",
    "    def __init__(self, params):\n",
    "        super(PINNNet, self).__init__()\n",
    "        self.params = params\n",
    "        self.linearIn = nn.Linear(self.params[\"d\"], self.params[\"width\"])\n",
    "        self.linearOut = nn.Linear(self.params[\"width\"], self.params[\"dd\"])\n",
    "\n",
    "    def forward(self, x):\n",
    "        x = torch.sin(self.linearIn(x)) # Match dimension\n",
    "        return self.linearOut(x)\n",
    "    \n",
    "    def first_layer_output(self, x):\n",
    "        return torch.sin(self.linearIn(x))"
   ]
  },
  {
   "cell_type": "code",
   "execution_count": 2,
   "metadata": {},
   "outputs": [],
   "source": [
    "def ffun(data):\n",
    "    # f = 0.0\n",
    "    return (a_1**2 + a_2**2 - k_1**2) * torch.sin(a_1 * data[:,0])* torch.sin(a_2 * data[:,1])\n",
    "\n",
    "def exact(data):\n",
    "    # f = 0 ==> u = xy\n",
    "    output = torch.sin(a_1 * data[:,0])* torch.sin(a_2 * data[:,1])\n",
    "    return output.unsqueeze(1)\n",
    "\n",
    "def exact_plot(data):\n",
    "    # f = 0 ==> u = xy\n",
    "    output = torch.sin(a_1 * data[:,:,0])* torch.sin(a_2 * data[:,:,1])\n",
    "    #output = torch.exp(1j * k_1 * data[:,:,0]) * torch.exp(1j * k_1 * data[:,:,1])\n",
    "    return output\n",
    "\n",
    "def set_seed(x):\n",
    "    np.random.seed(x)\n",
    "    torch.manual_seed(x)\n",
    "    torch.cuda.manual_seed_all(x)\n",
    "    torch.backends.cudnn.deterministic = True\n",
    "    torch.backends.cudnn.benchmark = False\n",
    "\n",
    "def pltResult(model,device,nSample,params):\n",
    "    xList = np.linspace(0,1,nSample)\n",
    "    yList = np.linspace(0,1,nSample)\n",
    "\n",
    "    xx, yy = np.meshgrid(xList, yList)\n",
    "    input_data = np.stack((xx, yy), axis = -1)  # Stack xx and yy to form a [nSample, nSample, 2] array\n",
    "    input_data_torch = torch.tensor(input_data, dtype = torch.float32)  # Convert numpy array to torch tensor\n",
    "\n",
    "    zz_real = exact_plot(input_data_torch).numpy()  # Get complex valued output\n",
    "    zz_numerical = model(torch.tensor(input_data, dtype = torch.float).to(device)).cpu().detach().numpy().squeeze(2)\n",
    "    #stop\n",
    "    error = zz_real - zz_numerical\n",
    "    e = abs(error).reshape((-1,1))\n",
    "    true = zz_real.reshape((-1,1))\n",
    "    L_2 = math.sqrt(sum(e*e)/len(e))/math.sqrt(sum(true*true)/len(true))\n",
    "    L_inf = e.max()/true.max()\n",
    "    return L_2, L_inf"
   ]
  },
  {
   "cell_type": "code",
   "execution_count": 23,
   "metadata": {},
   "outputs": [],
   "source": [
    "def train(model,device,params,optimizer,scheduler):\n",
    "    Loss_list = []\n",
    "    model.train()\n",
    "\n",
    "    data1 = torch.from_numpy(generate_inner_points(params[\"bdryBatch\"])).float().to(device)\n",
    "    data1.requires_grad = True\n",
    "    data2 = torch.from_numpy(generate_boundary_points(params[\"bdryBatch\"])).float().to(device)\n",
    "    pbar = tqdm(total=params[\"trainStep\"]-params[\"preStep\"])\n",
    "    for step in range(params[\"trainStep\"]-params[\"preStep\"]):\n",
    "        output1 = model(data1)\n",
    "        print(output1.shape)\n",
    "        model.zero_grad()\n",
    "        #偏微分方程强解的程序\n",
    "        dfdx = torch.autograd.grad(output1,data1,grad_outputs=torch.ones_like(output1),retain_graph=True,create_graph=True,only_inputs=True)[0]\n",
    "        #print(\"dfdx\",dfdx[0])\n",
    "        dfdxx = torch.autograd.grad(dfdx[:,0].unsqueeze(1),data1,grad_outputs=torch.ones_like(output1),retain_graph=True,create_graph=True,only_inputs=True)[0][:,0].unsqueeze(1)\n",
    "        dfdyy = torch.autograd.grad(dfdx[:,1].unsqueeze(1),data1,grad_outputs=torch.ones_like(output1),retain_graph=True,create_graph=True,only_inputs=True)[0][:,1].unsqueeze(1)\n",
    "        #print(dfdyy[0])\n",
    "        #Loss function 1\n",
    "        fTerm = ffun(data1).to(device)\n",
    "        #print(\"lapla\",dfdxx+dfdyy)\n",
    "        #print(\"fterm\",fTerm.shape)\n",
    "        loss1 = torch.mean((dfdxx+dfdyy+k_1**2*output1+fTerm)*(dfdxx+dfdyy+k_1**2*output1+fTerm))\n",
    "        print(\"pde_loss\",loss1)\n",
    "\n",
    "\n",
    "        # 计算一阶导数\n",
    "        du_data=torch.autograd.grad(output1,data1,grad_outputs=torch.ones_like(output1),create_graph=True)[0]\n",
    "        du_dy=du_data[:,1].unsqueeze(1)\n",
    "        du_dx=du_data[:,0].unsqueeze(1)\n",
    "        #print(\"du_data\",du_data[0])\n",
    "        # 计算二阶导数\n",
    "        ddu_ddata=torch.autograd.grad(du_dx,data1,grad_outputs=torch.ones_like(output1), create_graph=True)[0]\n",
    "        ddu_ddx=ddu_ddata[:,0]\n",
    "        ddu_ddy=torch.autograd.grad(du_dy,data1,grad_outputs=torch.ones_like(output1), create_graph=True)[0]\n",
    "        ddu_ddy=ddu_ddy[:,1]\n",
    "   \n",
    "        \n",
    "        f=1** 2 * torch.sin(1 * data1[:, 0:1]) * torch.sin(1 * data1[:, 1:2])\n",
    "        f=f.squeeze(-1)\n",
    "   \n",
    "        \n",
    "        ddu_ddx=ddu_ddx.reshape(-1,1)\n",
    "        ddu_ddy=ddu_ddy.reshape(-1,1)\n",
    "        lfh=ddu_ddx+ddu_ddy+(1**2)*output1\n",
    "        pde_loss =  nn.MSELoss()\n",
    "        loss1=torch.mean((lfh+f)*(lfh+f))\n",
    "\n",
    "        \n",
    "        # Loss function 2\n",
    "        output2 = model(data2)\n",
    "        target2 = exact(data2)\n",
    "        loss2 = torch.mean((output2-target2)*(output2-target2))\n",
    "        print(\"data_Loss\",loss2)\n",
    "        #loss = loss1+loss2\n",
    "        loss=loss1\n",
    "        optimizer.zero_grad()\n",
    "        loss.backward()\n",
    "        optimizer.step()\n",
    "        scheduler.step()\n",
    "        '''\n",
    "        if step%params[\"sampleStep\"] == params[\"sampleStep\"]-1:\n",
    "            data1 = torch.from_numpy(generate_inner_points(params[\"bdryBatch\"])).float().to(device)\n",
    "            data1.requires_grad = True\n",
    "            data2 = torch.from_numpy(generate_boundary_points(params[\"bdryBatch\"])).float().to(device)\n",
    "        '''\n",
    "        Loss_list.append(loss2.item())\n",
    "        pbar.update(1)\n",
    "    return Loss_list\n"
   ]
  },
  {
   "cell_type": "code",
   "execution_count": 24,
   "metadata": {},
   "outputs": [],
   "source": [
    "def main_Adam(width, Adam_steps, LBFGS_steps):\n",
    "    # Parameters\n",
    "    # torch.manual_seed(21)\n",
    "    set_seed(100)\n",
    "    device = torch.device(\"cuda:0\" if torch.cuda.is_available() else \"cpu\")\n",
    "\n",
    "    params = dict()\n",
    "    params[\"beta\"] = 100\n",
    "    params[\"d\"] = 2 # 2D\n",
    "    params[\"dd\"] = 1 # Scalar field\n",
    "    params[\"bodyBatch\"] = max(int(k_1 * 1.6),100) # Batch size\n",
    "    params[\"bdryBatch\"] = max(int(k_1 * 1.6),100) # Batch size for the boundary integral\n",
    "    params[\"lr\"] = 0.001 # Learning rate\n",
    "    params[\"LBFGS_lr\"] = 0.1\n",
    "    params[\"width\"] = width # Width of layers\n",
    "    params[\"depth\"] = 0 # Depth of the network: depth+2\n",
    "    params[\"numQuad\"] = 40000 # Number of quadrature points for testing\n",
    "    params[\"trainStep\"] = Adam_steps\n",
    "    params[\"LBFGS_trainStep\"] = LBFGS_steps\n",
    "    params[\"penalty\"] = 0\n",
    "    params[\"preStep\"] = 0\n",
    "    params[\"writeStep\"] = 50\n",
    "    params[\"sampleStep\"] = 10\n",
    "    params[\"step_size\"] = 1000\n",
    "    params[\"gamma\"] = 0.7\n",
    "    params[\"decay\"] = 0.00001\n",
    "\n",
    "    startTime = time.time()\n",
    "    model = PINNNet(params).to(device)\n",
    "    print(\"Generating network costs %s seconds.\"%(time.time()-startTime))\n",
    "\n",
    "    optimizer = torch.optim.Adam(model.parameters(),lr=params[\"lr\"])\n",
    "    scheduler = StepLR(optimizer,step_size=params[\"step_size\"],gamma=params[\"gamma\"])\n",
    "\n",
    "    startTime = time.time()\n",
    "    Loss_list = train(model,device,params,optimizer,scheduler)\n",
    "    print(\"Training costs %s seconds.\"%(time.time()-startTime))\n",
    "\n",
    "    model.eval()\n",
    "    L_2, L_inf = pltResult(model,device,100,params)\n",
    "    #测试模型效果\n",
    "    return Loss_list"
   ]
  },
  {
   "cell_type": "code",
   "execution_count": 25,
   "metadata": {},
   "outputs": [],
   "source": [
    "#Adam优化部分\n",
    "k_1 = 1\n",
    "#sin(a_1*x)sin(a_2*y)\n",
    "a_1 = 1\n",
    "a_2 = 1"
   ]
  },
  {
   "cell_type": "code",
   "execution_count": 26,
   "metadata": {},
   "outputs": [
    {
     "name": "stdout",
     "output_type": "stream",
     "text": [
      "Generating network costs 0.00031280517578125 seconds.\n",
      "numbers... 100\n"
     ]
    },
    {
     "name": "stderr",
     "output_type": "stream",
     "text": []
    },
    {
     "name": "stdout",
     "output_type": "stream",
     "text": [
      "torch.Size([10000, 1])\n",
      "pde_loss tensor(0.0819, grad_fn=<MeanBackward0>)\n",
      "data_Loss tensor(0.0468, grad_fn=<MeanBackward0>)\n"
     ]
    },
    {
     "name": "stderr",
     "output_type": "stream",
     "text": []
    },
    {
     "name": "stdout",
     "output_type": "stream",
     "text": [
      "torch.Size([10000, 1])\n",
      "pde_loss tensor(0.0743, grad_fn=<MeanBackward0>)\n",
      "data_Loss tensor(0.0540, grad_fn=<MeanBackward0>)\n"
     ]
    },
    {
     "name": "stderr",
     "output_type": "stream",
     "text": []
    },
    {
     "name": "stdout",
     "output_type": "stream",
     "text": [
      "torch.Size([10000, 1])\n",
      "pde_loss tensor(0.0674, grad_fn=<MeanBackward0>)\n",
      "data_Loss tensor(0.0625, grad_fn=<MeanBackward0>)\n"
     ]
    },
    {
     "name": "stderr",
     "output_type": "stream",
     "text": []
    },
    {
     "name": "stdout",
     "output_type": "stream",
     "text": [
      "torch.Size([10000, 1])\n",
      "pde_loss tensor(0.0611, grad_fn=<MeanBackward0>)\n",
      "data_Loss tensor(0.0723, grad_fn=<MeanBackward0>)\n"
     ]
    },
    {
     "name": "stderr",
     "output_type": "stream",
     "text": []
    },
    {
     "name": "stdout",
     "output_type": "stream",
     "text": [
      "torch.Size([10000, 1])\n",
      "pde_loss tensor(0.0556, grad_fn=<MeanBackward0>)\n",
      "data_Loss tensor(0.0831, grad_fn=<MeanBackward0>)\n"
     ]
    },
    {
     "name": "stderr",
     "output_type": "stream",
     "text": []
    },
    {
     "name": "stdout",
     "output_type": "stream",
     "text": [
      "torch.Size([10000, 1])\n",
      "pde_loss tensor(0.0508, grad_fn=<MeanBackward0>)\n"
     ]
    },
    {
     "name": "stderr",
     "output_type": "stream",
     "text": []
    },
    {
     "name": "stdout",
     "output_type": "stream",
     "text": [
      "data_Loss tensor(0.0950, grad_fn=<MeanBackward0>)\n",
      "torch.Size([10000, 1])\n",
      "pde_loss tensor(0.0466, grad_fn=<MeanBackward0>)\n",
      "data_Loss tensor(0.1078, grad_fn=<MeanBackward0>)\n"
     ]
    },
    {
     "name": "stderr",
     "output_type": "stream",
     "text": []
    },
    {
     "name": "stdout",
     "output_type": "stream",
     "text": [
      "torch.Size([10000, 1])\n",
      "pde_loss tensor(0.0431, grad_fn=<MeanBackward0>)\n",
      "data_Loss tensor(0.1214, grad_fn=<MeanBackward0>)\n"
     ]
    },
    {
     "name": "stderr",
     "output_type": "stream",
     "text": []
    },
    {
     "name": "stdout",
     "output_type": "stream",
     "text": [
      "torch.Size([10000, 1])\n",
      "pde_loss tensor(0.0402, grad_fn=<MeanBackward0>)\n",
      "data_Loss tensor(0.1356, grad_fn=<MeanBackward0>)\n"
     ]
    },
    {
     "name": "stderr",
     "output_type": "stream",
     "text": []
    },
    {
     "name": "stdout",
     "output_type": "stream",
     "text": [
      "torch.Size([10000, 1])\n",
      "pde_loss tensor(0.0379, grad_fn=<MeanBackward0>)\n",
      "data_Loss tensor(0.1502, grad_fn=<MeanBackward0>)\n"
     ]
    },
    {
     "name": "stderr",
     "output_type": "stream",
     "text": []
    },
    {
     "name": "stdout",
     "output_type": "stream",
     "text": [
      "torch.Size([10000, 1])\n",
      "pde_loss tensor(0.0362, grad_fn=<MeanBackward0>)\n",
      "data_Loss tensor(0.1651, grad_fn=<MeanBackward0>)\n"
     ]
    },
    {
     "name": "stderr",
     "output_type": "stream",
     "text": []
    },
    {
     "name": "stdout",
     "output_type": "stream",
     "text": [
      "torch.Size([10000, 1])\n",
      "pde_loss tensor(0.0349, grad_fn=<MeanBackward0>)\n",
      "data_Loss tensor(0.1798, grad_fn=<MeanBackward0>)\n"
     ]
    },
    {
     "name": "stderr",
     "output_type": "stream",
     "text": []
    },
    {
     "name": "stdout",
     "output_type": "stream",
     "text": [
      "torch.Size([10000, 1])\n",
      "pde_loss tensor(0.0341, grad_fn=<MeanBackward0>)\n",
      "data_Loss tensor(0.1944, grad_fn=<MeanBackward0>)\n"
     ]
    },
    {
     "name": "stderr",
     "output_type": "stream",
     "text": []
    },
    {
     "name": "stdout",
     "output_type": "stream",
     "text": [
      "torch.Size([10000, 1])\n",
      "pde_loss tensor(0.0337, grad_fn=<MeanBackward0>)\n",
      "data_Loss tensor(0.2083, grad_fn=<MeanBackward0>)\n"
     ]
    },
    {
     "name": "stderr",
     "output_type": "stream",
     "text": []
    },
    {
     "name": "stdout",
     "output_type": "stream",
     "text": [
      "torch.Size([10000, 1])\n",
      "pde_loss tensor(0.0335, grad_fn=<MeanBackward0>)\n",
      "data_Loss tensor(0.2216, grad_fn=<MeanBackward0>)\n"
     ]
    },
    {
     "name": "stderr",
     "output_type": "stream",
     "text": []
    },
    {
     "name": "stdout",
     "output_type": "stream",
     "text": [
      "torch.Size([10000, 1])\n",
      "pde_loss tensor(0.0336, grad_fn=<MeanBackward0>)\n",
      "data_Loss tensor(0.2338, grad_fn=<MeanBackward0>)\n"
     ]
    },
    {
     "name": "stderr",
     "output_type": "stream",
     "text": []
    },
    {
     "name": "stdout",
     "output_type": "stream",
     "text": [
      "torch.Size([10000, 1])\n",
      "pde_loss tensor(0.0338, grad_fn=<MeanBackward0>)\n",
      "data_Loss tensor(0.2447, grad_fn=<MeanBackward0>)\n"
     ]
    },
    {
     "name": "stderr",
     "output_type": "stream",
     "text": []
    },
    {
     "name": "stdout",
     "output_type": "stream",
     "text": [
      "torch.Size([10000, 1])\n",
      "pde_loss tensor(0.0340, grad_fn=<MeanBackward0>)\n",
      "data_Loss tensor(0.2543, grad_fn=<MeanBackward0>)\n"
     ]
    },
    {
     "name": "stderr",
     "output_type": "stream",
     "text": []
    },
    {
     "name": "stdout",
     "output_type": "stream",
     "text": [
      "torch.Size([10000, 1])\n",
      "pde_loss tensor(0.0343, grad_fn=<MeanBackward0>)\n",
      "data_Loss tensor(0.2624, grad_fn=<MeanBackward0>)\n"
     ]
    },
    {
     "name": "stderr",
     "output_type": "stream",
     "text": []
    },
    {
     "name": "stdout",
     "output_type": "stream",
     "text": [
      "torch.Size([10000, 1])\n",
      "pde_loss tensor(0.0346, grad_fn=<MeanBackward0>)\n",
      "data_Loss tensor(0.2688, grad_fn=<MeanBackward0>)\n"
     ]
    },
    {
     "name": "stderr",
     "output_type": "stream",
     "text": []
    },
    {
     "name": "stdout",
     "output_type": "stream",
     "text": [
      "torch.Size([10000, 1])\n",
      "pde_loss tensor(0.0348, grad_fn=<MeanBackward0>)\n",
      "data_Loss tensor(0.2736, grad_fn=<MeanBackward0>)\n"
     ]
    },
    {
     "name": "stderr",
     "output_type": "stream",
     "text": []
    },
    {
     "name": "stdout",
     "output_type": "stream",
     "text": [
      "torch.Size([10000, 1])\n",
      "pde_loss tensor(0.0349, grad_fn=<MeanBackward0>)\n",
      "data_Loss tensor(0.2767, grad_fn=<MeanBackward0>)\n"
     ]
    },
    {
     "name": "stderr",
     "output_type": "stream",
     "text": []
    },
    {
     "name": "stdout",
     "output_type": "stream",
     "text": [
      "torch.Size([10000, 1])\n",
      "pde_loss tensor(0.0350, grad_fn=<MeanBackward0>)\n",
      "data_Loss tensor(0.2782, grad_fn=<MeanBackward0>)\n"
     ]
    },
    {
     "name": "stderr",
     "output_type": "stream",
     "text": []
    },
    {
     "name": "stdout",
     "output_type": "stream",
     "text": [
      "torch.Size([10000, 1])\n",
      "pde_loss tensor(0.0349, grad_fn=<MeanBackward0>)\n",
      "data_Loss tensor(0.2783, grad_fn=<MeanBackward0>)\n"
     ]
    },
    {
     "name": "stderr",
     "output_type": "stream",
     "text": []
    },
    {
     "name": "stdout",
     "output_type": "stream",
     "text": [
      "torch.Size([10000, 1])\n",
      "pde_loss tensor(0.0347, grad_fn=<MeanBackward0>)\n",
      "data_Loss tensor(0.2770, grad_fn=<MeanBackward0>)\n"
     ]
    },
    {
     "name": "stderr",
     "output_type": "stream",
     "text": []
    },
    {
     "name": "stdout",
     "output_type": "stream",
     "text": [
      "torch.Size([10000, 1])\n",
      "pde_loss tensor(0.0345, grad_fn=<MeanBackward0>)\n",
      "data_Loss tensor(0.2745, grad_fn=<MeanBackward0>)\n"
     ]
    },
    {
     "name": "stderr",
     "output_type": "stream",
     "text": []
    },
    {
     "name": "stdout",
     "output_type": "stream",
     "text": [
      "torch.Size([10000, 1])\n",
      "pde_loss tensor(0.0342, grad_fn=<MeanBackward0>)\n",
      "data_Loss tensor(0.2710, grad_fn=<MeanBackward0>)\n"
     ]
    },
    {
     "name": "stderr",
     "output_type": "stream",
     "text": []
    },
    {
     "name": "stdout",
     "output_type": "stream",
     "text": [
      "torch.Size([10000, 1])\n",
      "pde_loss tensor(0.0338, grad_fn=<MeanBackward0>)\n",
      "data_Loss tensor(0.2666, grad_fn=<MeanBackward0>)\n"
     ]
    },
    {
     "name": "stderr",
     "output_type": "stream",
     "text": []
    },
    {
     "name": "stdout",
     "output_type": "stream",
     "text": [
      "torch.Size([10000, 1])\n",
      "pde_loss tensor(0.0334, grad_fn=<MeanBackward0>)\n",
      "data_Loss tensor(0.2615, grad_fn=<MeanBackward0>)\n"
     ]
    },
    {
     "name": "stderr",
     "output_type": "stream",
     "text": []
    },
    {
     "name": "stdout",
     "output_type": "stream",
     "text": [
      "torch.Size([10000, 1])\n",
      "pde_loss tensor(0.0331, grad_fn=<MeanBackward0>)\n",
      "data_Loss tensor(0.2559, grad_fn=<MeanBackward0>)\n"
     ]
    },
    {
     "name": "stderr",
     "output_type": "stream",
     "text": []
    },
    {
     "name": "stdout",
     "output_type": "stream",
     "text": [
      "torch.Size([10000, 1])\n",
      "pde_loss tensor(0.0327, grad_fn=<MeanBackward0>)\n",
      "data_Loss tensor(0.2500, grad_fn=<MeanBackward0>)\n"
     ]
    },
    {
     "name": "stderr",
     "output_type": "stream",
     "text": []
    },
    {
     "name": "stdout",
     "output_type": "stream",
     "text": [
      "torch.Size([10000, 1])\n",
      "pde_loss tensor(0.0324, grad_fn=<MeanBackward0>)\n",
      "data_Loss tensor(0.2439, grad_fn=<MeanBackward0>)\n"
     ]
    },
    {
     "name": "stderr",
     "output_type": "stream",
     "text": []
    },
    {
     "name": "stdout",
     "output_type": "stream",
     "text": [
      "torch.Size([10000, 1])\n",
      "pde_loss tensor(0.0321, grad_fn=<MeanBackward0>)\n",
      "data_Loss tensor(0.2377, grad_fn=<MeanBackward0>)\n"
     ]
    },
    {
     "name": "stderr",
     "output_type": "stream",
     "text": []
    },
    {
     "name": "stdout",
     "output_type": "stream",
     "text": [
      "torch.Size([10000, 1])\n",
      "pde_loss tensor(0.0319, grad_fn=<MeanBackward0>)\n",
      "data_Loss tensor(0.2317, grad_fn=<MeanBackward0>)\n"
     ]
    },
    {
     "name": "stderr",
     "output_type": "stream",
     "text": []
    },
    {
     "name": "stdout",
     "output_type": "stream",
     "text": [
      "torch.Size([10000, 1])\n",
      "pde_loss tensor(0.0317, grad_fn=<MeanBackward0>)\n",
      "data_Loss tensor(0.2258, grad_fn=<MeanBackward0>)\n"
     ]
    },
    {
     "name": "stderr",
     "output_type": "stream",
     "text": []
    },
    {
     "name": "stdout",
     "output_type": "stream",
     "text": [
      "torch.Size([10000, 1])\n",
      "pde_loss tensor(0.0315, grad_fn=<MeanBackward0>)\n",
      "data_Loss tensor(0.2203, grad_fn=<MeanBackward0>)\n"
     ]
    },
    {
     "name": "stderr",
     "output_type": "stream",
     "text": []
    },
    {
     "name": "stdout",
     "output_type": "stream",
     "text": [
      "torch.Size([10000, 1])\n",
      "pde_loss tensor(0.0314, grad_fn=<MeanBackward0>)\n",
      "data_Loss tensor(0.2151, grad_fn=<MeanBackward0>)\n"
     ]
    },
    {
     "name": "stderr",
     "output_type": "stream",
     "text": []
    },
    {
     "name": "stdout",
     "output_type": "stream",
     "text": [
      "torch.Size([10000, 1])\n",
      "pde_loss tensor(0.0314, grad_fn=<MeanBackward0>)\n",
      "data_Loss tensor(0.2104, grad_fn=<MeanBackward0>)\n"
     ]
    },
    {
     "name": "stderr",
     "output_type": "stream",
     "text": []
    },
    {
     "name": "stdout",
     "output_type": "stream",
     "text": [
      "torch.Size([10000, 1])\n",
      "pde_loss tensor(0.0313, grad_fn=<MeanBackward0>)\n",
      "data_Loss tensor(0.2062, grad_fn=<MeanBackward0>)\n"
     ]
    },
    {
     "name": "stderr",
     "output_type": "stream",
     "text": []
    },
    {
     "name": "stdout",
     "output_type": "stream",
     "text": [
      "torch.Size([10000, 1])\n",
      "pde_loss tensor(0.0313, grad_fn=<MeanBackward0>)\n",
      "data_Loss tensor(0.2025, grad_fn=<MeanBackward0>)\n"
     ]
    },
    {
     "name": "stderr",
     "output_type": "stream",
     "text": []
    },
    {
     "name": "stdout",
     "output_type": "stream",
     "text": [
      "torch.Size([10000, 1])\n",
      "pde_loss tensor(0.0313, grad_fn=<MeanBackward0>)\n",
      "data_Loss tensor(0.1994, grad_fn=<MeanBackward0>)\n"
     ]
    },
    {
     "name": "stderr",
     "output_type": "stream",
     "text": []
    },
    {
     "name": "stdout",
     "output_type": "stream",
     "text": [
      "torch.Size([10000, 1])\n",
      "pde_loss tensor(0.0313, grad_fn=<MeanBackward0>)\n",
      "data_Loss tensor(0.1969, grad_fn=<MeanBackward0>)\n"
     ]
    },
    {
     "name": "stderr",
     "output_type": "stream",
     "text": []
    },
    {
     "name": "stdout",
     "output_type": "stream",
     "text": [
      "torch.Size([10000, 1])\n",
      "pde_loss tensor(0.0313, grad_fn=<MeanBackward0>)\n",
      "data_Loss tensor(0.1949, grad_fn=<MeanBackward0>)\n"
     ]
    },
    {
     "name": "stderr",
     "output_type": "stream",
     "text": []
    },
    {
     "name": "stdout",
     "output_type": "stream",
     "text": [
      "torch.Size([10000, 1])\n",
      "pde_loss tensor(0.0313, grad_fn=<MeanBackward0>)\n",
      "data_Loss tensor(0.1935, grad_fn=<MeanBackward0>)\n"
     ]
    },
    {
     "name": "stderr",
     "output_type": "stream",
     "text": []
    },
    {
     "name": "stdout",
     "output_type": "stream",
     "text": [
      "torch.Size([10000, 1])\n",
      "pde_loss tensor(0.0313, grad_fn=<MeanBackward0>)\n",
      "data_Loss tensor(0.1926, grad_fn=<MeanBackward0>)\n"
     ]
    },
    {
     "name": "stderr",
     "output_type": "stream",
     "text": []
    },
    {
     "name": "stdout",
     "output_type": "stream",
     "text": [
      "torch.Size([10000, 1])\n",
      "pde_loss tensor(0.0312, grad_fn=<MeanBackward0>)\n",
      "data_Loss tensor(0.1923, grad_fn=<MeanBackward0>)\n"
     ]
    },
    {
     "name": "stderr",
     "output_type": "stream",
     "text": []
    },
    {
     "name": "stdout",
     "output_type": "stream",
     "text": [
      "torch.Size([10000, 1])\n",
      "pde_loss tensor(0.0312, grad_fn=<MeanBackward0>)\n",
      "data_Loss tensor(0.1923, grad_fn=<MeanBackward0>)\n"
     ]
    },
    {
     "name": "stderr",
     "output_type": "stream",
     "text": []
    },
    {
     "name": "stdout",
     "output_type": "stream",
     "text": [
      "torch.Size([10000, 1])\n",
      "pde_loss tensor(0.0311, grad_fn=<MeanBackward0>)\n",
      "data_Loss tensor(0.1929, grad_fn=<MeanBackward0>)\n"
     ]
    },
    {
     "name": "stderr",
     "output_type": "stream",
     "text": []
    },
    {
     "name": "stdout",
     "output_type": "stream",
     "text": [
      "torch.Size([10000, 1])\n",
      "pde_loss tensor(0.0311, grad_fn=<MeanBackward0>)\n",
      "data_Loss tensor(0.1938, grad_fn=<MeanBackward0>)\n"
     ]
    },
    {
     "name": "stderr",
     "output_type": "stream",
     "text": []
    },
    {
     "name": "stdout",
     "output_type": "stream",
     "text": [
      "torch.Size([10000, 1])\n",
      "pde_loss tensor(0.0310, grad_fn=<MeanBackward0>)\n",
      "data_Loss tensor(0.1950, grad_fn=<MeanBackward0>)\n"
     ]
    },
    {
     "name": "stderr",
     "output_type": "stream",
     "text": []
    },
    {
     "name": "stdout",
     "output_type": "stream",
     "text": [
      "torch.Size([10000, 1])\n",
      "pde_loss tensor(0.0309, grad_fn=<MeanBackward0>)\n",
      "data_Loss tensor(0.1965, grad_fn=<MeanBackward0>)\n"
     ]
    },
    {
     "name": "stderr",
     "output_type": "stream",
     "text": []
    },
    {
     "name": "stdout",
     "output_type": "stream",
     "text": [
      "torch.Size([10000, 1])\n",
      "pde_loss tensor(0.0309, grad_fn=<MeanBackward0>)\n",
      "data_Loss tensor(0.1982, grad_fn=<MeanBackward0>)\n"
     ]
    },
    {
     "name": "stderr",
     "output_type": "stream",
     "text": []
    },
    {
     "name": "stdout",
     "output_type": "stream",
     "text": [
      "torch.Size([10000, 1])\n",
      "pde_loss tensor(0.0308, grad_fn=<MeanBackward0>)\n",
      "data_Loss tensor(0.2001, grad_fn=<MeanBackward0>)\n"
     ]
    },
    {
     "name": "stderr",
     "output_type": "stream",
     "text": []
    },
    {
     "name": "stdout",
     "output_type": "stream",
     "text": [
      "torch.Size([10000, 1])\n",
      "pde_loss tensor(0.0307, grad_fn=<MeanBackward0>)\n",
      "data_Loss tensor(0.2020, grad_fn=<MeanBackward0>)\n"
     ]
    },
    {
     "name": "stderr",
     "output_type": "stream",
     "text": []
    },
    {
     "name": "stdout",
     "output_type": "stream",
     "text": [
      "torch.Size([10000, 1])\n",
      "pde_loss tensor(0.0307, grad_fn=<MeanBackward0>)\n",
      "data_Loss tensor(0.2040, grad_fn=<MeanBackward0>)\n"
     ]
    },
    {
     "name": "stderr",
     "output_type": "stream",
     "text": []
    },
    {
     "name": "stdout",
     "output_type": "stream",
     "text": [
      "torch.Size([10000, 1])\n",
      "pde_loss tensor(0.0307, grad_fn=<MeanBackward0>)\n",
      "data_Loss tensor(0.2060, grad_fn=<MeanBackward0>)\n"
     ]
    },
    {
     "name": "stderr",
     "output_type": "stream",
     "text": []
    },
    {
     "name": "stdout",
     "output_type": "stream",
     "text": [
      "torch.Size([10000, 1])\n",
      "pde_loss tensor(0.0306, grad_fn=<MeanBackward0>)\n",
      "data_Loss tensor(0.2079, grad_fn=<MeanBackward0>)\n"
     ]
    },
    {
     "name": "stderr",
     "output_type": "stream",
     "text": []
    },
    {
     "name": "stdout",
     "output_type": "stream",
     "text": [
      "torch.Size([10000, 1])\n",
      "pde_loss tensor(0.0306, grad_fn=<MeanBackward0>)\n",
      "data_Loss tensor(0.2097, grad_fn=<MeanBackward0>)\n"
     ]
    },
    {
     "name": "stderr",
     "output_type": "stream",
     "text": []
    },
    {
     "name": "stdout",
     "output_type": "stream",
     "text": [
      "torch.Size([10000, 1])\n",
      "pde_loss tensor(0.0306, grad_fn=<MeanBackward0>)\n",
      "data_Loss tensor(0.2114, grad_fn=<MeanBackward0>)\n"
     ]
    },
    {
     "name": "stderr",
     "output_type": "stream",
     "text": []
    },
    {
     "name": "stdout",
     "output_type": "stream",
     "text": [
      "torch.Size([10000, 1])\n",
      "pde_loss tensor(0.0306, grad_fn=<MeanBackward0>)\n",
      "data_Loss tensor(0.2129, grad_fn=<MeanBackward0>)\n"
     ]
    },
    {
     "name": "stderr",
     "output_type": "stream",
     "text": []
    },
    {
     "name": "stdout",
     "output_type": "stream",
     "text": [
      "torch.Size([10000, 1])\n",
      "pde_loss tensor(0.0305, grad_fn=<MeanBackward0>)\n",
      "data_Loss tensor(0.2141, grad_fn=<MeanBackward0>)\n"
     ]
    },
    {
     "name": "stderr",
     "output_type": "stream",
     "text": []
    },
    {
     "name": "stdout",
     "output_type": "stream",
     "text": [
      "torch.Size([10000, 1])\n",
      "pde_loss tensor(0.0305, grad_fn=<MeanBackward0>)\n",
      "data_Loss tensor(0.2151, grad_fn=<MeanBackward0>)\n"
     ]
    },
    {
     "name": "stderr",
     "output_type": "stream",
     "text": []
    },
    {
     "name": "stdout",
     "output_type": "stream",
     "text": [
      "torch.Size([10000, 1])\n",
      "pde_loss tensor(0.0305, grad_fn=<MeanBackward0>)\n",
      "data_Loss tensor(0.2159, grad_fn=<MeanBackward0>)\n"
     ]
    },
    {
     "name": "stderr",
     "output_type": "stream",
     "text": []
    },
    {
     "name": "stdout",
     "output_type": "stream",
     "text": [
      "torch.Size([10000, 1])\n",
      "pde_loss tensor(0.0305, grad_fn=<MeanBackward0>)\n",
      "data_Loss tensor(0.2164, grad_fn=<MeanBackward0>)\n"
     ]
    },
    {
     "name": "stderr",
     "output_type": "stream",
     "text": []
    },
    {
     "name": "stdout",
     "output_type": "stream",
     "text": [
      "torch.Size([10000, 1])\n",
      "pde_loss tensor(0.0305, grad_fn=<MeanBackward0>)\n",
      "data_Loss tensor(0.2167, grad_fn=<MeanBackward0>)\n"
     ]
    },
    {
     "name": "stderr",
     "output_type": "stream",
     "text": []
    },
    {
     "name": "stdout",
     "output_type": "stream",
     "text": [
      "torch.Size([10000, 1])\n",
      "pde_loss tensor(0.0305, grad_fn=<MeanBackward0>)\n",
      "data_Loss tensor(0.2167, grad_fn=<MeanBackward0>)\n"
     ]
    },
    {
     "name": "stderr",
     "output_type": "stream",
     "text": []
    },
    {
     "name": "stdout",
     "output_type": "stream",
     "text": [
      "torch.Size([10000, 1])\n",
      "pde_loss tensor(0.0305, grad_fn=<MeanBackward0>)\n",
      "data_Loss tensor(0.2166, grad_fn=<MeanBackward0>)\n"
     ]
    },
    {
     "name": "stderr",
     "output_type": "stream",
     "text": []
    },
    {
     "name": "stdout",
     "output_type": "stream",
     "text": [
      "torch.Size([10000, 1])\n",
      "pde_loss tensor(0.0305, grad_fn=<MeanBackward0>)\n",
      "data_Loss tensor(0.2162, grad_fn=<MeanBackward0>)\n"
     ]
    },
    {
     "name": "stderr",
     "output_type": "stream",
     "text": []
    },
    {
     "name": "stdout",
     "output_type": "stream",
     "text": [
      "torch.Size([10000, 1])\n",
      "pde_loss tensor(0.0304, grad_fn=<MeanBackward0>)\n",
      "data_Loss tensor(0.2157, grad_fn=<MeanBackward0>)\n"
     ]
    },
    {
     "name": "stderr",
     "output_type": "stream",
     "text": []
    },
    {
     "name": "stdout",
     "output_type": "stream",
     "text": [
      "torch.Size([10000, 1])\n",
      "pde_loss tensor(0.0304, grad_fn=<MeanBackward0>)\n",
      "data_Loss tensor(0.2150, grad_fn=<MeanBackward0>)\n"
     ]
    },
    {
     "name": "stderr",
     "output_type": "stream",
     "text": []
    },
    {
     "name": "stdout",
     "output_type": "stream",
     "text": [
      "torch.Size([10000, 1])\n",
      "pde_loss tensor(0.0304, grad_fn=<MeanBackward0>)\n",
      "data_Loss tensor(0.2142, grad_fn=<MeanBackward0>)\n"
     ]
    },
    {
     "name": "stderr",
     "output_type": "stream",
     "text": []
    },
    {
     "name": "stdout",
     "output_type": "stream",
     "text": [
      "torch.Size([10000, 1])\n",
      "pde_loss tensor(0.0304, grad_fn=<MeanBackward0>)\n",
      "data_Loss tensor(0.2133, grad_fn=<MeanBackward0>)\n"
     ]
    },
    {
     "name": "stderr",
     "output_type": "stream",
     "text": []
    },
    {
     "name": "stdout",
     "output_type": "stream",
     "text": [
      "torch.Size([10000, 1])\n",
      "pde_loss tensor(0.0304, grad_fn=<MeanBackward0>)\n",
      "data_Loss tensor(0.2124, grad_fn=<MeanBackward0>)\n"
     ]
    },
    {
     "name": "stderr",
     "output_type": "stream",
     "text": []
    },
    {
     "name": "stdout",
     "output_type": "stream",
     "text": [
      "torch.Size([10000, 1])\n",
      "pde_loss tensor(0.0304, grad_fn=<MeanBackward0>)\n",
      "data_Loss tensor(0.2115, grad_fn=<MeanBackward0>)\n"
     ]
    },
    {
     "name": "stderr",
     "output_type": "stream",
     "text": []
    },
    {
     "name": "stdout",
     "output_type": "stream",
     "text": [
      "torch.Size([10000, 1])\n",
      "pde_loss tensor(0.0304, grad_fn=<MeanBackward0>)\n",
      "data_Loss tensor(0.2106, grad_fn=<MeanBackward0>)\n"
     ]
    },
    {
     "name": "stderr",
     "output_type": "stream",
     "text": []
    },
    {
     "name": "stdout",
     "output_type": "stream",
     "text": [
      "torch.Size([10000, 1])\n",
      "pde_loss tensor(0.0304, grad_fn=<MeanBackward0>)\n",
      "data_Loss tensor(0.2097, grad_fn=<MeanBackward0>)\n"
     ]
    },
    {
     "name": "stderr",
     "output_type": "stream",
     "text": []
    },
    {
     "name": "stdout",
     "output_type": "stream",
     "text": [
      "torch.Size([10000, 1])\n",
      "pde_loss tensor(0.0304, grad_fn=<MeanBackward0>)\n",
      "data_Loss tensor(0.2089, grad_fn=<MeanBackward0>)\n"
     ]
    },
    {
     "name": "stderr",
     "output_type": "stream",
     "text": []
    },
    {
     "name": "stdout",
     "output_type": "stream",
     "text": [
      "torch.Size([10000, 1])\n",
      "pde_loss tensor(0.0304, grad_fn=<MeanBackward0>)\n",
      "data_Loss tensor(0.2082, grad_fn=<MeanBackward0>)\n"
     ]
    },
    {
     "name": "stderr",
     "output_type": "stream",
     "text": []
    },
    {
     "name": "stdout",
     "output_type": "stream",
     "text": [
      "torch.Size([10000, 1])\n",
      "pde_loss tensor(0.0303, grad_fn=<MeanBackward0>)\n",
      "data_Loss tensor(0.2075, grad_fn=<MeanBackward0>)\n"
     ]
    },
    {
     "name": "stderr",
     "output_type": "stream",
     "text": []
    },
    {
     "name": "stdout",
     "output_type": "stream",
     "text": [
      "torch.Size([10000, 1])\n",
      "pde_loss tensor(0.0303, grad_fn=<MeanBackward0>)\n",
      "data_Loss tensor(0.2070, grad_fn=<MeanBackward0>)\n"
     ]
    },
    {
     "name": "stderr",
     "output_type": "stream",
     "text": []
    },
    {
     "name": "stdout",
     "output_type": "stream",
     "text": [
      "torch.Size([10000, 1])\n",
      "pde_loss tensor(0.0303, grad_fn=<MeanBackward0>)\n",
      "data_Loss tensor(0.2065, grad_fn=<MeanBackward0>)\n"
     ]
    },
    {
     "name": "stderr",
     "output_type": "stream",
     "text": []
    },
    {
     "name": "stdout",
     "output_type": "stream",
     "text": [
      "torch.Size([10000, 1])\n",
      "pde_loss tensor(0.0303, grad_fn=<MeanBackward0>)\n",
      "data_Loss tensor(0.2062, grad_fn=<MeanBackward0>)\n"
     ]
    },
    {
     "name": "stderr",
     "output_type": "stream",
     "text": []
    },
    {
     "name": "stdout",
     "output_type": "stream",
     "text": [
      "torch.Size([10000, 1])\n",
      "pde_loss tensor(0.0303, grad_fn=<MeanBackward0>)\n"
     ]
    },
    {
     "name": "stderr",
     "output_type": "stream",
     "text": []
    },
    {
     "name": "stdout",
     "output_type": "stream",
     "text": [
      "data_Loss tensor(0.2060, grad_fn=<MeanBackward0>)\n",
      "torch.Size([10000, 1])\n",
      "pde_loss tensor(0.0303, grad_fn=<MeanBackward0>)\n",
      "data_Loss tensor(0.2059, grad_fn=<MeanBackward0>)\n"
     ]
    },
    {
     "name": "stderr",
     "output_type": "stream",
     "text": []
    },
    {
     "name": "stdout",
     "output_type": "stream",
     "text": [
      "torch.Size([10000, 1])\n",
      "pde_loss tensor(0.0303, grad_fn=<MeanBackward0>)\n",
      "data_Loss tensor(0.2058, grad_fn=<MeanBackward0>)\n"
     ]
    },
    {
     "name": "stderr",
     "output_type": "stream",
     "text": []
    },
    {
     "name": "stdout",
     "output_type": "stream",
     "text": [
      "torch.Size([10000, 1])\n",
      "pde_loss tensor(0.0303, grad_fn=<MeanBackward0>)\n",
      "data_Loss tensor(0.2059, grad_fn=<MeanBackward0>)\n"
     ]
    },
    {
     "name": "stderr",
     "output_type": "stream",
     "text": []
    },
    {
     "name": "stdout",
     "output_type": "stream",
     "text": [
      "torch.Size([10000, 1])\n",
      "pde_loss tensor(0.0303, grad_fn=<MeanBackward0>)\n",
      "data_Loss tensor(0.2060, grad_fn=<MeanBackward0>)\n"
     ]
    },
    {
     "name": "stderr",
     "output_type": "stream",
     "text": []
    },
    {
     "name": "stdout",
     "output_type": "stream",
     "text": [
      "torch.Size([10000, 1])\n",
      "pde_loss tensor(0.0303, grad_fn=<MeanBackward0>)\n",
      "data_Loss tensor(0.2062, grad_fn=<MeanBackward0>)\n"
     ]
    },
    {
     "name": "stderr",
     "output_type": "stream",
     "text": []
    },
    {
     "name": "stdout",
     "output_type": "stream",
     "text": [
      "torch.Size([10000, 1])\n",
      "pde_loss tensor(0.0303, grad_fn=<MeanBackward0>)\n",
      "data_Loss tensor(0.2065, grad_fn=<MeanBackward0>)\n"
     ]
    },
    {
     "name": "stderr",
     "output_type": "stream",
     "text": []
    },
    {
     "name": "stdout",
     "output_type": "stream",
     "text": [
      "torch.Size([10000, 1])\n",
      "pde_loss tensor(0.0303, grad_fn=<MeanBackward0>)\n",
      "data_Loss tensor(0.2068, grad_fn=<MeanBackward0>)\n"
     ]
    },
    {
     "name": "stderr",
     "output_type": "stream",
     "text": []
    },
    {
     "name": "stdout",
     "output_type": "stream",
     "text": [
      "torch.Size([10000, 1])\n",
      "pde_loss tensor(0.0303, grad_fn=<MeanBackward0>)\n",
      "data_Loss tensor(0.2071, grad_fn=<MeanBackward0>)\n"
     ]
    },
    {
     "name": "stderr",
     "output_type": "stream",
     "text": []
    },
    {
     "name": "stdout",
     "output_type": "stream",
     "text": [
      "torch.Size([10000, 1])\n",
      "pde_loss tensor(0.0303, grad_fn=<MeanBackward0>)\n",
      "data_Loss tensor(0.2074, grad_fn=<MeanBackward0>)\n"
     ]
    },
    {
     "name": "stderr",
     "output_type": "stream",
     "text": []
    },
    {
     "name": "stdout",
     "output_type": "stream",
     "text": [
      "torch.Size([10000, 1])\n",
      "pde_loss tensor(0.0303, grad_fn=<MeanBackward0>)\n",
      "data_Loss tensor(0.2077, grad_fn=<MeanBackward0>)\n"
     ]
    },
    {
     "name": "stderr",
     "output_type": "stream",
     "text": []
    },
    {
     "name": "stdout",
     "output_type": "stream",
     "text": [
      "torch.Size([10000, 1])\n",
      "pde_loss tensor(0.0303, grad_fn=<MeanBackward0>)\n",
      "data_Loss tensor(0.2079, grad_fn=<MeanBackward0>)\n"
     ]
    },
    {
     "name": "stderr",
     "output_type": "stream",
     "text": []
    },
    {
     "name": "stdout",
     "output_type": "stream",
     "text": [
      "torch.Size([10000, 1])\n",
      "pde_loss tensor(0.0303, grad_fn=<MeanBackward0>)\n",
      "data_Loss tensor(0.2082, grad_fn=<MeanBackward0>)\n"
     ]
    },
    {
     "name": "stderr",
     "output_type": "stream",
     "text": []
    },
    {
     "name": "stdout",
     "output_type": "stream",
     "text": [
      "torch.Size([10000, 1])\n",
      "pde_loss tensor(0.0303, grad_fn=<MeanBackward0>)\n",
      "data_Loss tensor(0.2084, grad_fn=<MeanBackward0>)\n"
     ]
    },
    {
     "name": "stderr",
     "output_type": "stream",
     "text": []
    },
    {
     "name": "stdout",
     "output_type": "stream",
     "text": [
      "torch.Size([10000, 1])\n",
      "pde_loss tensor(0.0303, grad_fn=<MeanBackward0>)\n",
      "data_Loss tensor(0.2086, grad_fn=<MeanBackward0>)\n"
     ]
    },
    {
     "name": "stderr",
     "output_type": "stream",
     "text": []
    },
    {
     "name": "stdout",
     "output_type": "stream",
     "text": [
      "torch.Size([10000, 1])\n",
      "pde_loss tensor(0.0303, grad_fn=<MeanBackward0>)\n",
      "data_Loss tensor(0.2087, grad_fn=<MeanBackward0>)\n"
     ]
    },
    {
     "name": "stderr",
     "output_type": "stream",
     "text": []
    },
    {
     "name": "stdout",
     "output_type": "stream",
     "text": [
      "torch.Size([10000, 1])\n",
      "pde_loss tensor(0.0303, grad_fn=<MeanBackward0>)\n",
      "data_Loss tensor(0.2088, grad_fn=<MeanBackward0>)\n"
     ]
    },
    {
     "name": "stderr",
     "output_type": "stream",
     "text": []
    },
    {
     "name": "stdout",
     "output_type": "stream",
     "text": [
      "torch.Size([10000, 1])\n",
      "pde_loss tensor(0.0303, grad_fn=<MeanBackward0>)\n",
      "data_Loss tensor(0.2088, grad_fn=<MeanBackward0>)\n"
     ]
    },
    {
     "name": "stderr",
     "output_type": "stream",
     "text": [
      "100%|██████████| 100/100 [00:32<00:00,  3.07it/s]"
     ]
    },
    {
     "name": "stdout",
     "output_type": "stream",
     "text": [
      "Training costs 32.54157090187073 seconds.\n"
     ]
    },
    {
     "name": "stderr",
     "output_type": "stream",
     "text": [
      "\n"
     ]
    }
   ],
   "source": [
    "Loss_List_Adam = main_Adam(50, 100, 0)"
   ]
  },
  {
   "cell_type": "code",
   "execution_count": 27,
   "metadata": {},
   "outputs": [
    {
     "data": {
      "text/plain": [
       "Text(0, 0.5, 'Loss')"
      ]
     },
     "execution_count": 27,
     "metadata": {},
     "output_type": "execute_result"
    },
    {
     "data": {
      "image/png": "[encoded data removed]",
      "text/plain": [
       "<Figure size 1000x500 with 1 Axes>"
      ]
     },
     "metadata": {},
     "output_type": "display_data"
    }
   ],
   "source": [
    "#\n",
    "# 绘图\n",
    "plt.figure(figsize=(10, 5))\n",
    "plt.plot(Loss_List_Adam, color='blue', linewidth=1.5, label='Datloss')\n",
    "plt.legend()\n",
    "plt.title('pde train During Training', fontsize=16)\n",
    "plt.xlabel('Iteration', fontsize=14)\n",
    "plt.ylabel('Loss', fontsize=14)\n"
   ]
  }
 ],
 "metadata": {
  "kernelspec": {
   "display_name": "base",
   "language": "python",
   "name": "python3"
  },
  "language_info": {
   "codemirror_mode": {
    "name": "ipython",
    "version": 3
   },
   "file_extension": ".py",
   "mimetype": "text/x-python",
   "name": "python",
   "nbconvert_exporter": "python",
   "pygments_lexer": "ipython3",
   "version": "3.10.9"
  }
 },
 "nbformat": 4,
 "nbformat_minor": 2
}
